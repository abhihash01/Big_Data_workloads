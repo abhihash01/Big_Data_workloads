{
 "cells": [
  {
   "cell_type": "markdown",
   "metadata": {},
   "source": [
    "#### Multiprocessing in Python on Windows and Jupyter/Ipython — Making it work\n",
    "https://medium.com/@grvsinghal/speed-up-your-python-code-using-multiprocessing-on-windows-and-jupyter-or-ipython-2714b49d6fac"
   ]
  },
  {
   "cell_type": "markdown",
   "metadata": {},
   "source": [
    "## multiprocessing.Process Example 1\n",
    "Need to put the following scripts into a .py file and run it from terminal"
   ]
  },
  {
   "cell_type": "code",
   "execution_count": 2,
   "metadata": {},
   "outputs": [
    {
     "name": "stdout",
     "output_type": "stream",
     "text": [
      "ID of the main process: 75103\n",
      "ID of process p1: 75108\n",
      "ID of process p2: 75109\n"
     ]
    }
   ],
   "source": [
    "import multiprocessing\n",
    "import os\n",
    "\n",
    "def worker1():\n",
    "    print(\"ID process running worker 1: {}\".format(os.getpid()))\n",
    "    \n",
    "def worker2():\n",
    "    print(\"ID process running worker 2: {}\".format(os.getpid()))\n",
    "\n",
    "\n",
    "if __name__ == '__main__':\n",
    "    print(\"ID of the main process: {}\".format(os.getpid()))\n",
    "    \n",
    "    # create processes\n",
    "    p1 = multiprocessing.Process(target=worker1)\n",
    "    p2 = multiprocessing.Process(target=worker2)\n",
    "    \n",
    "    # starting processes\n",
    "    p1.start()\n",
    "    p2.start()\n",
    "    \n",
    "    # process IDs\n",
    "    print(\"ID of process p1: {}\".format(p1.pid))\n",
    "    print(\"ID of process p2: {}\".format(p2.pid))\n",
    "          \n",
    "    # wait until processes are finished\n",
    "    p1.join()\n",
    "    p2.join()"
   ]
  },
  {
   "cell_type": "markdown",
   "metadata": {},
   "source": [
    "## multiprocessing.Process Example 2\n",
    "Need to put the following scripts into a .py file and run it from terminal"
   ]
  },
  {
   "cell_type": "code",
   "execution_count": 3,
   "metadata": {},
   "outputs": [],
   "source": [
    "import multiprocessing\n",
    "import myFun\n",
    "import os\n",
    "\n",
    "class Process(multiprocessing.Process):\n",
    "    def __init__(self, id):\n",
    "        super(Process, self).__init__()\n",
    "        self.id = id\n",
    "\n",
    "    def run(self):\n",
    "        time.sleep(1)\n",
    "        print(\"I'm the process with id: {}\".format(self.id))\n",
    "\n",
    "if __name__ == '__main__':\n",
    "    p1 = Process(0)\n",
    "    p1.start()\n",
    "    p1.join()\n",
    "    p2 = Process(1)\n",
    "    p2.start()\n",
    "    p2.join()"
   ]
  },
  {
   "cell_type": "markdown",
   "metadata": {},
   "source": [
    "# Pool class\n",
    "Pool class can be used for parallel execution of a function for different input data. The multiprocessing.Pool() class spawns a set of processes called workers and can submit tasks using the methods apply/apply_async and map/map_async. For parallel mapping, you should first initialize a multiprocessing.Pool() object. The first argument is the number of workers; if not given, that number will be equal to the number of cores in the system."
   ]
  },
  {
   "cell_type": "markdown",
   "metadata": {},
   "source": [
    "## pool.map"
   ]
  },
  {
   "cell_type": "code",
   "execution_count": 4,
   "metadata": {},
   "outputs": [
    {
     "name": "stdout",
     "output_type": "stream",
     "text": [
      "[1, 4, 9, 16, 25, 36]\n"
     ]
    }
   ],
   "source": [
    "import multiprocessing\n",
    "import myFun\n",
    "\n",
    "if __name__ ==  '__main__': \n",
    "    pool = multiprocessing.Pool(6)\n",
    "    results = pool.map(myFun.square, [1,2,3,4,5,6])\n",
    "    pool.close()\n",
    "    pool.join()\n",
    "print(results)"
   ]
  },
  {
   "cell_type": "markdown",
   "metadata": {},
   "source": [
    "## pool.map_async\n",
    "When we use the normal map method, the execution of the program is stopped until all the workers completed the task. Using map_async(), the AsyncResult object is returned immediately without stopping the main program and the task is done in the background. The result can be retrieved by using the AsyncResult.get() method at any time"
   ]
  },
  {
   "cell_type": "code",
   "execution_count": 5,
   "metadata": {},
   "outputs": [
    {
     "name": "stdout",
     "output_type": "stream",
     "text": [
      "Output: [0, 1, 4, 9, 16]\n"
     ]
    }
   ],
   "source": [
    "if __name__ == '__main__':\n",
    "    pool = multiprocessing.Pool()\n",
    "    inputs = [0,1,2,3,4]\n",
    "    outputs_async = pool.map_async(myFun.square, inputs)\n",
    "    outputs = outputs_async.get()\n",
    "    print(\"Output: {}\".format(outputs))"
   ]
  },
  {
   "cell_type": "markdown",
   "metadata": {},
   "source": [
    "## pool.apply_async\n",
    "Pool.apply_async assigns a task consisting of a single function to one of the workers. It takes the function and its arguments and returns an AsyncResult object."
   ]
  },
  {
   "cell_type": "code",
   "execution_count": 6,
   "metadata": {},
   "outputs": [
    {
     "name": "stdout",
     "output_type": "stream",
     "text": [
      "Output: [0, 1, 4, 9, 16, 25, 36, 49, 64, 81]\n"
     ]
    }
   ],
   "source": [
    "import multiprocessing\n",
    "import myFun\n",
    "\n",
    "if __name__ ==  '__main__': \n",
    "    pool = multiprocessing.Pool()\n",
    "    result_async = [pool.apply_async(myFun.square, args = (i, )) for i in range(10)]\n",
    "    results = [r.get() for r in result_async]\n",
    "    print(\"Output: {}\".format(results))## pool.map"
   ]
  },
  {
   "cell_type": "code",
   "execution_count": null,
   "metadata": {},
   "outputs": [],
   "source": []
  }
 ],
 "metadata": {
  "kernelspec": {
   "display_name": "Python 3",
   "language": "python",
   "name": "python3"
  },
  "language_info": {
   "codemirror_mode": {
    "name": "ipython",
    "version": 3
   },
   "file_extension": ".py",
   "mimetype": "text/x-python",
   "name": "python",
   "nbconvert_exporter": "python",
   "pygments_lexer": "ipython3",
   "version": "3.7.7"
  },
  "toc": {
   "base_numbering": 1,
   "nav_menu": {},
   "number_sections": true,
   "sideBar": true,
   "skip_h1_title": false,
   "title_cell": "Table of Contents",
   "title_sidebar": "Contents",
   "toc_cell": false,
   "toc_position": {},
   "toc_section_display": true,
   "toc_window_display": false
  }
 },
 "nbformat": 4,
 "nbformat_minor": 5
}
