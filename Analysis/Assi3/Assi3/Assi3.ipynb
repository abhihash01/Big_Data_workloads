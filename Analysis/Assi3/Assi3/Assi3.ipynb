{
  "nbformat": 4,
  "nbformat_minor": 0,
  "metadata": {
    "colab": {
      "provenance": []
    },
    "kernelspec": {
      "name": "python3",
      "display_name": "Python 3"
    },
    "language_info": {
      "name": "python"
    }
  },
  "cells": [
    {
      "cell_type": "markdown",
      "source": [
        "# Instruction of programming assignments for AMS 598: Big Data Analysis\n",
        "\n"
      ],
      "metadata": {
        "id": "-LrS5ttLGr9Y"
      }
    },
    {
      "cell_type": "markdown",
      "source": [
        "We will use the Python programming language. Specifically, we will use a few popular libraries (numpy, matplotlib, math) for scientific computing.\n",
        "\n",
        "Python & Numpy Tutorial\n",
        "-----------------------\n",
        "- Official Python tutorial: https://docs.python.org/3/tutorial/\n",
        "- Official Numpy tutorial: https://numpy.org/doc/\n",
        "- Good tutorial sources: https://cs231n.github.io/python-numpy-tutorial/\n",
        "\n",
        "\n",
        "Assignment Descriptions\n",
        "-----------------------\n",
        "\n",
        "There is a class `Bootstrap` with the following methods:\n",
        "- `__init__(self, data)`: Initialize the class with the original dataset.\n",
        "- `sample(self)`: Generate a new bootstrap dataset.\n",
        "- `generate_bootstrap_datasets(self, num_datasets)`: Generate multiple bootstrap datasets.\n",
        "- `calculate_means(self, bootstrap_datasets)`: Calculate the mean for each bootstrap dataset.\n",
        "- `plot_histogram(self, means)`: Plot histogram of means for the bootstrap datasets.\n",
        "\n",
        "You are required to complete all the methods except `__init__(self, data)`. Please follow the docstrings for Parameters and Returns.\n",
        "1. **Implement Bootstrap Sampling:**\n",
        "   - In the `sample` method, generate a new bootstrap dataset from the original dataset.\n",
        "\n",
        "2. **Generate Bootstrap Datasets:**\n",
        "   - In the `generate_bootstrap_datasets` method, generate `num_datasets` bootstrap datasets by repeatedly calling the `sample` method.\n",
        "\n",
        "3. **Calculate Means:**\n",
        "   - In the `calculate_means` method, calculate the mean for each bootstrap dataset.\n",
        "\n",
        "4. **Visualize Distribution:**\n",
        "   - In the `plot_histogram` method, plot a histogram of means. You should set the number of bins to be a number from 20 to 50.\n",
        "\n",
        "Helper functions\n",
        "----------------\n",
        "In this assignment, you may want to use following functions:\n",
        "- `(matplotlib.pyplot)plt.hist`: Plot a plot a histogram of means.\n"
      ],
      "metadata": {
        "id": "TZUm0-WoGxt-"
      }
    },
    {
      "cell_type": "markdown",
      "source": [
        "# Bootstrap"
      ],
      "metadata": {
        "id": "Z_FPgtjhH3yF"
      }
    },
    {
      "cell_type": "code",
      "source": [
        "import numpy as np\n",
        "import matplotlib.pyplot as plt\n",
        "np.random.seed(380)\n",
        "\n",
        "class Bootstrap:\n",
        "    def __init__(self, data):\n",
        "        \"\"\"\n",
        "        Initialize the BootstrapSampler class with data array.\n",
        "        \"\"\"\n",
        "        self.data = data\n",
        "\n",
        "    def sample(self):\n",
        "        \"\"\"\n",
        "        Sample a new bootstrap dataset.\n",
        "\n",
        "        Returns:\n",
        "        array-like: A new bootstrap dataset.\n",
        "        \"\"\"\n",
        "        ### YOUR CODE HERE\n",
        "\n",
        "        ### END YOUR CODE\n",
        "\n",
        "    def generate_bootstrap_datasets(self, num_datasets):\n",
        "        \"\"\"\n",
        "        Generate multiple bootstrap datasets.\n",
        "\n",
        "        Parameters:\n",
        "        num_iterations (int): Number of bootstrap datasets to generate.\n",
        "\n",
        "        Returns:\n",
        "        list of array-like: List of bootstrap datasets.\n",
        "        \"\"\"\n",
        "        bootstrap_datasets = []\n",
        "        ### YOUR CODE HERE\n",
        "\n",
        "        ### END YOUR CODE\n",
        "        return bootstrap_datasets\n",
        "\n",
        "    def calculate_means(self, bootstrap_datasets):\n",
        "        \"\"\"\n",
        "        Calculate the mean for each bootstrap dataset.\n",
        "\n",
        "        Parameters:\n",
        "        bootstrap_datasets (list of array-like): List of bootstrap datasets.\n",
        "\n",
        "        Returns:\n",
        "        list: List of means for each bootstrap dataset.\n",
        "        \"\"\"\n",
        "        ### YOUR CODE HERE\n",
        "\n",
        "        ### END YOUR CODE\n",
        "\n",
        "    def plot_histogram(self, means):\n",
        "        \"\"\"\n",
        "        Plot histogram of means.\n",
        "\n",
        "        Parameters:\n",
        "        means (list): List of means for each bootstrap dataset.\n",
        "        \"\"\"\n",
        "        ### YOUR CODE HERE\n",
        "\n",
        "        ### END YOUR CODE\n",
        "\n",
        "\n",
        "drug_effective_scores = np.array([-3.3, -2.8, -1.6, 1.5, 1.7, 2.1, 2.9, 3.6])\n",
        "sampler = Bootstrap(drug_effective_scores)\n",
        "\n",
        "print('-----------------------------')\n",
        "print('Part a: Generate bootstrap dataset')\n",
        "sample_boostrap_dataset = sampler.sample()\n",
        "print(\"A sample boostrap dataset generated: \", sample_boostrap_dataset)\n",
        "print('-----------------------------\\n')\n",
        "\n",
        "print('-----------------------------')\n",
        "print('Part b: Generate 1000 bootstrap datasets')\n",
        "bootstrap_datasets = sampler.generate_bootstrap_datasets(num_datasets=1000)\n",
        "print(f\"There are {len(bootstrap_datasets)} bootstrap_datasets and each dataset has {bootstrap_datasets[0].shape[0]} measurements.\")\n",
        "print(\"The first boostrap dataset generated is: \", bootstrap_datasets[0])\n",
        "print(\"The second boostrap dataset generated is: \", bootstrap_datasets[1])\n",
        "print('-----------------------------\\n')\n",
        "\n",
        "print('-----------------------------')\n",
        "print('Part c: Calculate means for bootstrap datasets')\n",
        "means = sampler.calculate_means(bootstrap_datasets)\n",
        "print(f\"There are {len(means)} means for each of the bootstrap datasets respectively.\")\n",
        "assert means[0] == np.mean(bootstrap_datasets[0])\n",
        "assert means[380] == np.mean(bootstrap_datasets[380])\n",
        "print(f\"The mean of the first boostrap dataset is {means[0]}.\")\n",
        "print(f\"The mean of the second sample boostrap dataset is {means[1]}.\")\n",
        "print('-----------------------------\\n')\n",
        "\n",
        "print('-----------------------------')\n",
        "print('Part d: Plot histogram of means')\n",
        "sampler.plot_histogram(means)\n",
        "print('-----------------------------\\n')"
      ],
      "metadata": {
        "id": "96iauqTWH8HX"
      },
      "execution_count": null,
      "outputs": []
    }
  ]
}